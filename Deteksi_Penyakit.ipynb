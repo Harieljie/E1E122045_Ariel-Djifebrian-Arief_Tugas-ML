{
  "nbformat": 4,
  "nbformat_minor": 0,
  "metadata": {
    "colab": {
      "provenance": []
    },
    "kernelspec": {
      "name": "python3",
      "display_name": "Python 3"
    },
    "language_info": {
      "name": "python"
    }
  },
  "cells": [
    {
      "cell_type": "code",
      "execution_count": null,
      "metadata": {
        "id": "zcUcUnquB79-"
      },
      "outputs": [],
      "source": [
        "import pandas as pd\n",
        "from sklearn.tree import DecisionTreeClassifier\n",
        "from sklearn.model_selection import train_test_split\n",
        "from sklearn.metrics import accuracy_score, classification_report, confusion_matrix\n",
        "\n",
        "# Data\n",
        "data = {\n",
        "    \"Gejala 1\": [1, 0, 1, 1, 1, 1, 0, 1, 1, 1],\n",
        "    \"Gejala 2\": [1, 1, 1, 1, 1, 1, 1, 1, 1, 1],\n",
        "    \"Gejala 3\": [1, 1, 1, 1, 1, 1, 1, 1, 1, 1],\n",
        "    \"Gejala 4\": [1, 1, 0, 1, 1, 1, 1, 1, 1, 1],\n",
        "    \"Gejala 5\": [1, 1, 1, 1, 1, 1, 1, 1, 1, 1],\n",
        "    \"Label\": [\"DBD\", \"Non-DBD\", \"DBD\", \"DBD\", \"Non-DBD\", \"DBD\", \"Non-DBD\", \"DBD\", \"DBD\", \"Non-DBD\"]\n",
        "}\n",
        "\n",
        "# Create a DataFrame\n",
        "df = pd.DataFrame(data)\n",
        "\n",
        "# Split the data into features (X) and target (y)\n",
        "X = df.drop(columns=[\"Label\"])\n",
        "y = df[\"Label\"]\n",
        "\n",
        "# Split the dataset into training and testing sets\n",
        "X_train, X_test, y_train, y_test = train_test_split(X, y, test_size=0.2, random_state=42)\n",
        "\n",
        "# Create a Decision Tree model\n",
        "model = DecisionTreeClassifier()\n",
        "\n",
        "# Train the model\n",
        "model.fit(X_train, y_train)\n",
        "\n",
        "# Make predictions on the testing set\n",
        "y_pred = model.predict(X_test)\n",
        "\n",
        "# Evaluate the model\n",
        "accuracy = accuracy_score(y_test, y_pred)\n",
        "conf_matrix = confusion_matrix(y_test, y_pred)\n",
        "class_report = classification_report(y_test, y_pred)\n",
        "\n",
        "# Display results\n",
        "print(\"Accuracy:\", accuracy)\n",
        "print(\"\\nConfusion Matrix:\\n\", conf_matrix)\n",
        "print(\"\\nClassification Report:\\n\", class_report)\n"
      ]
    }
  ]
}